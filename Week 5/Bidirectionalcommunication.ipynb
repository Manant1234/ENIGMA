
import PySimpleGUI as sg
import time
import threading
import serial

# Setup serial communication (adjust port & baudrate as needed)
ser = serial.Serial('COM3', 9600, timeout=1)  # Update COM port accordingly

# GUI theme setup
font_spec = 'Courier 24 bold'
heading_color = '#2FB8AD'
alphabet_list = list("ABCDEFGHIJKLMNOPQRSTUVWXYZ")

# --- Enigma Config Globals ---
NUM_ROTORS = 3
ALPHABET_SIZE = 26

rotors = [
    "EKMFLGDQVZNTOWYHXUSPAIBRCJ",
    "AJDKSIRUXBLHWTMCQGZNPYFVOE",
    "BDFHJLCPRTXVZNYEIWGAKMUSQO"
]
reflector = "YRUHQSLDPXNGOKMIEBFZCWVJAT"
turnovers = [ord('Q') - ord('A'), ord('E') - ord('A'), ord('V') - ord('A')]

rotor_offsets = [0, 0, 0]
last_sent_offsets = [0, 0, 0]
last_update_from_gui = False

ring_settings = [0, 0, 0]
pairings = [0] * ALPHABET_SIZE
stecker = [0] * ALPHABET_SIZE

steckers = False

# --- Helper Functions ---

def char_to_index(c): return ord(c.upper()) - ord('A')
def index_to_char(i): return chr(ord('A') + (i % ALPHABET_SIZE))

def index_inverse(c, rotor):
    for i in range(ALPHABET_SIZE):
        if rotors[rotor][i] == chr(c + ord('A')):
            return i
    return -1

def apply_ring_setting(rotor, ring_offset):
    return rotor[ring_offset:] + rotor[:ring_offset]

def rotor_r_to_l(input, rotor):
    idx = (input + rotor_offsets[rotor]) % ALPHABET_SIZE
    mapped = ord(rotors[rotor][idx]) - ord('A')
    res = mapped - rotor_offsets[rotor]
    return res % ALPHABET_SIZE

def rotor_l_to_r(input, rotor):
    idx = (input + rotor_offsets[rotor]) % ALPHABET_SIZE
    inverse = index_inverse(idx, rotor)
    res = inverse - rotor_offsets[rotor]
    return res % ALPHABET_SIZE

def reflect(input):
    return ord(reflector[input]) - ord('A')

def plug_swap(i): return i + pairings[i]
def stecker_swap(i): return i + stecker[i]

def spin_rotors():
    middle_at_turnover = rotor_offsets[1] == turnovers[1]
    right_at_turnover = rotor_offsets[0] == turnovers[0]
    rotor_offsets[0] = (rotor_offsets[0] + 1) % ALPHABET_SIZE
    if right_at_turnover:
        rotor_offsets[1] = (rotor_offsets[1] + 1) % ALPHABET_SIZE
    if middle_at_turnover:
        rotor_offsets[1] = (rotor_offsets[1] + 1) % ALPHABET_SIZE
        rotor_offsets[2] = (rotor_offsets[2] + 1) % ALPHABET_SIZE

def encrypt_char(c):
    global steckers
    if not c.isalpha():
        return c
    c = c.upper()
    spin_rotors()
    idx = char_to_index(c)
    idx = plug_swap(idx)
    for r in range(NUM_ROTORS):
        idx = rotor_r_to_l(idx, r)
    idx = reflect(idx)
    for r in reversed(range(NUM_ROTORS)):
        idx = rotor_l_to_r(idx, r)
    idx = plug_swap(idx)
    return index_to_char(idx)

def encrypt_message(msg):
    return ''.join(encrypt_char(c) for c in msg)

def set_rotor_positions(left, middle, right):
    rotor_offsets[2] = char_to_index(left)
    rotor_offsets[1] = char_to_index(middle)
    rotor_offsets[0] = char_to_index(right)

# --- Serial Thread to Read from Arduino ---
def read_from_arduino():
    global last_update_from_gui
    while True:
        try:
            if ser.in_waiting:
                line = ser.readline().decode().strip()
                if '-' in line:
                    parts = line.split('-')
                    if len(parts) == 3:
                        new_offsets = [ord(p) - ord('A') for p in parts]
                        if last_update_from_gui:
                            if new_offsets == last_sent_offsets:
                                last_update_from_gui = False
                                continue
                            else:
                                last_update_from_gui = False
                        rotor_offsets[:] = new_offsets
                        window.write_event_value("update_offsets", new_offsets.copy())
        except Exception as e:
            print(f"Serial read error: {e}")
        time.sleep(0.1)

# --- GUI Layout ---
layout = [
    [sg.Text('ENIGMA MACHINE SIMULATOR', justification='center', font=font_spec, expand_x=True, background_color="#00D99C", text_color='white')],
    [sg.Text('Input Message for Encryption', background_color=heading_color)],
    [sg.InputText('', key='pic_input')],
    [sg.Text('Rotor 1 Configuration', background_color=heading_color)],
    [sg.InputText(rotors[0], key='rotor1_input'), sg.Button('Send', key='rotor1_send')],
    [sg.Text('Rotor 2 Configuration', background_color=heading_color)],
    [sg.InputText(rotors[1], key='rotor2_input'), sg.Button('Send', key='rotor2_send')],
    [sg.Text('Rotor 3 Configuration', background_color=heading_color)],
    [sg.InputText(rotors[2], key='rotor3_input'), sg.Button('Send', key='rotor3_send')],
    [sg.Text('Rotor Offsets: L M R', background_color=heading_color), sg.Button('Send Offsets', key='send_offsets')],
    [sg.Listbox(values=alphabet_list, size=(10, 5), key='rotor3_offset'),
     sg.Listbox(values=alphabet_list, size=(10, 5), key='rotor2_offset'),
     sg.Listbox(values=alphabet_list, size=(10, 5), key='rotor1_offset')],
    [sg.Text('Ring Settings: L M R', background_color=heading_color), sg.Button('Send Ring Settings', key='send_rings')],
    [sg.Listbox(values=alphabet_list, size=(10, 5), key='ring1_offset'),
     sg.Listbox(values=alphabet_list, size=(10, 5), key='ring2_offset'),
     sg.Listbox(values=alphabet_list, size=(10, 5), key='ring3_offset')],
    [sg.Button('Submit', key='submit')],
    [sg.Multiline('', size=(60, 10), key='console', disabled=True, autoscroll=True, background_color='#222', text_color='white')],
    [sg.Checkbox('Enable Reset', key='reset'), sg.Button('Reset', key='reset_all')],
]

sg.SetOptions(background_color='#9FB8AD',
              text_element_background_color='#9FB8AD',
              element_background_color='#475841',
              button_color=('white', '#475841'))

# Create window
window = sg.Window('Enigma Interface', layout, finalize=True)

# Start serial reading thread
threading.Thread(target=read_from_arduino, daemon=True).start()

# --- Main Event Loop ---
while True:
    event, values = window.read(timeout=20)

    if event in (sg.WIN_CLOSED, 'Exit'):
        break

    if event == 'rotor1_send':
        rotor = values['rotor1_input'].upper()
        if len(rotor) == 26 and set(rotor) == set(alphabet_list):
            rotors[0] = rotor
            window['console'].update('Rotor 1 set!\n', append=True)
        else:
            window['console'].update('Invalid Rotor 1!\n', append=True)

    if event == 'rotor2_send':
        rotor = values['rotor2_input'].upper()
        if len(rotor) == 26 and set(rotor) == set(alphabet_list):
            rotors[1] = rotor
            window['console'].update('Rotor 2 set!\n', append=True)
        else:
            window['console'].update('Invalid Rotor 2!\n', append=True)

    if event == 'rotor3_send':
        rotor = values['rotor3_input'].upper()
        if len(rotor) == 26 and set(rotor) == set(alphabet_list):
            rotors[2] = rotor
            window['console'].update('Rotor 3 set!\n', append=True)
        else:
            window['console'].update('Invalid Rotor 3!\n', append=True)

    if event == 'send_offsets':
        try:
            left = values['rotor3_offset'][0]
            middle = values['rotor2_offset'][0]
            right = values['rotor1_offset'][0]
            rotor_offsets[2] = char_to_index(left)
            rotor_offsets[1] = char_to_index(middle)
            rotor_offsets[0] = char_to_index(right)

            last_sent_offsets[:] = rotor_offsets[:]
            last_update_from_gui = True

            ser.write(f"{right}-{middle}-{left}\n".encode())
            window['console'].update(f'Offsets set: {left} {middle} {right}\n', append=True)
        except:
            window['console'].update('Select all rotor offsets!\n', append=True)

    if event == 'send_rings':
        try:
            ring_settings[2] = char_to_index(values['ring1_offset'][0])
            ring_settings[1] = char_to_index(values['ring2_offset'][0])
            ring_settings[0] = char_to_index(values['ring3_offset'][0])
            window['console'].update('Ring settings updated!\n', append=True)
        except:
            window['console'].update('Select all ring settings!\n', append=True)

    if event == 'submit':
        msg = values['pic_input']
        encrypted = encrypt_message(msg)
        window['console'].update(f"Encrypted: {encrypted}\n", append=True)
        ser.write((encrypted + '\r').encode())

    if event == 'update_offsets':
        updated = values[event]
        window['rotor1_offset'].update(set_to_index=updated[0])
        window['rotor2_offset'].update(set_to_index=updated[1])
        window['rotor3_offset'].update(set_to_index=updated[2])

    if event == 'reset_all' and values['reset']:
        for key in ['pic_input', 'rotor1_input', 'rotor2_input', 'rotor3_input']:
            window[key].update('')
        for k in ['rotor1_offset', 'rotor2_offset', 'rotor3_offset', 'ring1_offset', 'ring2_offset', 'ring3_offset']:
            window[k].update(set_to_index=[])
        window['console'].update('All fields reset.\n', append=True)

# Cleanup
window.close()
